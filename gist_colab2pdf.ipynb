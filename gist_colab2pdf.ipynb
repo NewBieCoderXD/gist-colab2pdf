{
  "nbformat": 4,
  "nbformat_minor": 0,
  "metadata": {
    "colab": {
      "provenance": []
    },
    "kernelspec": {
      "name": "python3",
      "display_name": "Python 3"
    },
    "language_info": {
      "name": "python"
    }
  },
  "cells": [
    {
      "cell_type": "code",
      "execution_count": 2,
      "metadata": {
        "id": "x1y9wo-AZweb"
      },
      "outputs": [],
      "source": [
        "from enum import Enum\n",
        "class Method(Enum):\n",
        "  LATEX = 1\n",
        "  WEBPDF = 2\n",
        "def gist_colab2pdf(COLAB_URL,method):\n",
        "  GITHUB_GIST_DOMAIN = \"https://gist.github.com\"\n",
        "\n",
        "  def get_notebook_param():\n",
        "    import re\n",
        "    matched = re.match(\"https://colab.research.google.com/gist/(.*?)/(.*?)/(.*?)#\",COLAB_URL)\n",
        "    return matched.groups()\n",
        "\n",
        "  def get_archive_id_and_url(github_username, github_gist_id):\n",
        "    from bs4 import BeautifulSoup as BS\n",
        "    from urllib.request import Request, urlopen\n",
        "    import re\n",
        "\n",
        "    url = '{}/{}/{}'.format(GITHUB_GIST_DOMAIN,github_username, github_gist_id)\n",
        "    req = Request(url)\n",
        "    html_page = urlopen(req).read()\n",
        "\n",
        "    soup = BS(html_page, 'html.parser')\n",
        "    relative_download_url = soup.findAll('a', string=\"Download ZIP\")[0].get(\"href\")\n",
        "    archive_id = re.match(\"/.*?/.*?/archive/(.*).zip\",relative_download_url).groups()[0]\n",
        "    return (archive_id,GITHUB_GIST_DOMAIN+relative_download_url)\n",
        "\n",
        "\n",
        "  def download_from_gist(url):\n",
        "    import urllib.request\n",
        "    import zipfile\n",
        "\n",
        "    ! rm -rf /gistColab2Pdf\n",
        "    ! mkdir /gistColab2Pdf\n",
        "    urllib.request.urlretrieve(url, \"/gistColab2Pdf/0.zip\")\n",
        "\n",
        "    with zipfile.ZipFile(\"/gistColab2Pdf/0.zip\", 'r') as zip_ref:\n",
        "      zip_ref.extractall(\"/gistColab2Pdf/unzipped\")\n",
        "\n",
        "  def remove_last_cell(file):\n",
        "    import json\n",
        "    with open(file) as f:\n",
        "      d = json.load(f)\n",
        "      d[\"cells\"]=d[\"cells\"][:-1]\n",
        "      with open(file,\"w\") as f:\n",
        "        json.dump(d, f)\n",
        "\n",
        "  def get_unzipped_folder(github_gist_id, archive_id):\n",
        "    return \"/gistColab2Pdf/unzipped/{}-{}\".format(github_gist_id, archive_id)\n",
        "\n",
        "  def convert_to_pdf(unzipped_folder, github_title, method):\n",
        "    notebook_location = \"{}/{}\".format(unzipped_folder,github_title)\n",
        "    if method==Method.LATEX:\n",
        "      ! apt install -qq pandoc > /dev/null\n",
        "      ! apt install -qq texlive-xetex texlive-fonts-recommended texlive-plain-generic > /dev/null\n",
        "      ! jupyter nbconvert --to pdf $notebook_location\n",
        "    else:\n",
        "      ! pip install -U nbconvert pyppeteer\n",
        "      ! jupyter nbconvert --to webpdf --allow-chromium-download $notebook_location\n",
        "\n",
        "  def download_to_user(unzipped_folder,github_title):\n",
        "    from google.colab import files\n",
        "    pdf_file = \"\".join(github_title.split(\".ipynb\")[:-1] + [\".pdf\"])\n",
        "    files.download(\"{}/{}\".format(unzipped_folder,pdf_file))\n",
        "\n",
        "  (github_username, github_gist_id, github_title) = get_notebook_param()\n",
        "  (archive_id,download_url) = get_archive_id_and_url(github_username, github_gist_id)\n",
        "  download_from_gist(download_url)\n",
        "  unzipped_folder = get_unzipped_folder(github_gist_id, archive_id)\n",
        "  remove_last_cell(\"{}/{}\".format(unzipped_folder,github_title))\n",
        "  convert_to_pdf(unzipped_folder, github_title,method)\n",
        "  download_to_user(unzipped_folder,github_title)"
      ]
    }
  ]
}